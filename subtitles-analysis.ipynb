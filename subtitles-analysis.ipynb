{
 "cells": [
  {
   "cell_type": "code",
   "execution_count": 18,
   "metadata": {
    "_cell_guid": "b1076dfc-b9ad-4769-8c92-a6c4dae69d19",
    "_uuid": "8f2839f25d086af736a60e9eeb907d3b93b6e0e5",
    "execution": {
     "iopub.execute_input": "2021-06-17T04:35:46.851189Z",
     "iopub.status.busy": "2021-06-17T04:35:46.850445Z",
     "iopub.status.idle": "2021-06-17T04:35:47.653944Z",
     "shell.execute_reply": "2021-06-17T04:35:47.654571Z",
     "shell.execute_reply.started": "2021-06-17T04:23:41.536584Z"
    },
    "papermill": {
     "duration": 0.827219,
     "end_time": "2021-06-17T04:35:47.654923",
     "exception": false,
     "start_time": "2021-06-17T04:35:46.827704",
     "status": "completed"
    },
    "tags": []
   },
   "outputs": [
    {
     "name": "stdout",
     "output_type": "stream",
     "text": [
      "La base de datos contiene:\n",
      "    2 videos completos\n",
      "    430 clips resultantes de dividir los videos de acuerdo a los subtítulos\n",
      "    2550.590000000001 segundos de video\n"
     ]
    }
   ],
   "source": [
    "import os\n",
    "import json\n",
    "import nltk\n",
    "from nltk.corpus import stopwords\n",
    "from typing import TypedDict\n",
    "\n",
    "\n",
    "class CutData(TypedDict):\n",
    "    '''type of the cuts json data file'''\n",
    "    label: str\n",
    "    start: float\n",
    "    end: float\n",
    "    video: str\n",
    "\n",
    "def clean_word(word: str, chars: list[str], rep: str = '') -> str:\n",
    "    for c in chars:\n",
    "        word = word.replace(c,rep)\n",
    "    return word\n",
    "\n",
    "inv_chars = ['\\n', ',', '.', '\"', '-', '?', '!', '¿', '¡']\n",
    "\n",
    "# cuts data contains list of data for each cut json file\n",
    "cuts_data: list[CutData] = []\n",
    "# words contain list of words for each cut, excepting stopwords\n",
    "words: dict[str, list[str]] = {}\n",
    "# times contain lenght (s) for each cut\n",
    "times: dict[str, float] = {}\n",
    "# videos contains videos names\n",
    "videos: set[str] = set()\n",
    "\n",
    "# If not downloaded, run\n",
    "# nltk.download('stopwords')\n",
    "stop_words = stopwords.words('spanish')\n",
    "\n",
    "dir = './data/'\n",
    "for dirpath, dirnames, filenames in os.walk(dir):\n",
    "    for f in filter(lambda fname: fname.endswith('.json'), filenames):\n",
    "        with open(dirpath + '/' + f) as datafile:\n",
    "            data: CutData = json.load(datafile)\n",
    "            cuts_data.append(data)\n",
    "            words[data['video'] + '/' + f] = [w for w in clean_word(data['label'], inv_chars, ' ').lower().split(' ') if (w and w not in stop_words)]\n",
    "            times[data['video'] + '/' + f] = (data['end'] - data['start'])\n",
    "            videos.add(data['video'])\n",
    "\n",
    "print('''La base de datos contiene:\n",
    "    {} videos completos\n",
    "    {} clips resultantes de dividir los videos de acuerdo a los subtítulos\n",
    "    {} segundos de video'''.format(len(videos), len(cuts_data), sum(times.values())))"
   ]
  },
  {
   "cell_type": "markdown",
   "metadata": {},
   "source": [
    "Estadísticas de la duración de los clips:"
   ]
  },
  {
   "cell_type": "code",
   "execution_count": 13,
   "metadata": {},
   "outputs": [
    {
     "data": {
      "text/plain": [
       "count    430.000000\n",
       "mean       5.931605\n",
       "std        3.344872\n",
       "min        1.400000\n",
       "25%        3.585000\n",
       "50%        5.260000\n",
       "75%        7.180000\n",
       "max       25.580000\n",
       "dtype: float64"
      ]
     },
     "metadata": {},
     "output_type": "display_data"
    },
    {
     "data": {
      "text/plain": [
       "<AxesSubplot:>"
      ]
     },
     "metadata": {},
     "output_type": "display_data"
    },
    {
     "data": {
      "image/png": "[encoded data removed]",
      "text/plain": [
       "<Figure size 432x288 with 1 Axes>"
      ]
     },
     "metadata": {
      "needs_background": "light"
     },
     "output_type": "display_data"
    }
   ],
   "source": [
    "import pandas as pd\n",
    "from IPython.display import display\n",
    "\n",
    "times_s = pd.Series(times).sort_values()\n",
    "display(times_s.describe())\n",
    "display(times_s.plot(use_index=False))"
   ]
  },
  {
   "cell_type": "markdown",
   "metadata": {},
   "source": [
    "Estadísticas de cantidad de palabras por clip:"
   ]
  },
  {
   "cell_type": "code",
   "execution_count": 21,
   "metadata": {},
   "outputs": [
    {
     "data": {
      "text/plain": [
       "count    430.000000\n",
       "mean       4.872093\n",
       "std        1.943230\n",
       "min        0.000000\n",
       "25%        3.250000\n",
       "50%        5.000000\n",
       "75%        6.000000\n",
       "max       10.000000\n",
       "dtype: float64"
      ]
     },
     "metadata": {},
     "output_type": "display_data"
    },
    {
     "data": {
      "text/plain": [
       "<AxesSubplot:>"
      ]
     },
     "metadata": {},
     "output_type": "display_data"
    },
    {
     "data": {
      "image/png": "[encoded data removed]",
      "text/plain": [
       "<Figure size 432x288 with 1 Axes>"
      ]
     },
     "metadata": {
      "needs_background": "light"
     },
     "output_type": "display_data"
    }
   ],
   "source": [
    "words_s = pd.Series({k: len(v) for k, v in words.items()}).sort_values()\n",
    "display(words_s.describe())\n",
    "display(words_s.plot(use_index=False))"
   ]
  },
  {
   "cell_type": "markdown",
   "metadata": {},
   "source": [
    "Estadísticas acerca de frecuencia de palabras entre todos los clips:"
   ]
  },
  {
   "cell_type": "code",
   "execution_count": 36,
   "metadata": {},
   "outputs": [
    {
     "name": "stdout",
     "output_type": "stream",
     "text": [
      "Palabras más comunes: [('sordos', 15), ('cada', 14), ('deporte', 13), ('persona', 12), ('cn', 11), ('así', 11), ('agua', 10), ('argentina', 10), ('hoy', 10), ('carne', 10)]\n"
     ]
    },
    {
     "data": {
      "text/plain": [
       "count    1295.000000\n",
       "mean        1.617761\n",
       "std         1.455096\n",
       "min         1.000000\n",
       "25%         1.000000\n",
       "50%         1.000000\n",
       "75%         2.000000\n",
       "max        15.000000\n",
       "dtype: float64"
      ]
     },
     "metadata": {},
     "output_type": "display_data"
    },
    {
     "data": {
      "text/plain": [
       "<AxesSubplot:>"
      ]
     },
     "metadata": {},
     "output_type": "display_data"
    },
    {
     "data": {
      "image/png": "[encoded data removed]",
      "text/plain": [
       "<Figure size 432x288 with 1 Axes>"
      ]
     },
     "metadata": {
      "needs_background": "light"
     },
     "output_type": "display_data"
    }
   ],
   "source": [
    "from collections import Counter\n",
    "\n",
    "total_words = [item for sublist in words.values() for item in sublist]\n",
    "word_count = Counter(total_words)\n",
    "print('Palabras más comunes:', word_count.most_common(10))\n",
    "\n",
    "total_words_s = pd.Series(word_count).sort_values()\n",
    "display(total_words_s.describe())\n",
    "display(total_words_s.plot())"
   ]
  },
  {
   "cell_type": "code",
   "execution_count": 44,
   "metadata": {},
   "outputs": [
    {
     "name": "stdout",
     "output_type": "stream",
     "text": [
      "Bigramas más comunes: [(('cn', 'sordos'), 11), (('liquido', 'negro'), 4), (('buena', 'alimentación'), 4), (('hacer', 'compost'), 3), (('exportaciones', 'carne'), 3), (('va', 'depender'), 3), (('seis', 'meses'), 3), (('cada', 'persona'), 3), (('personas', 'sordas'), 3), (('lengua', 'señas'), 3)]\n"
     ]
    },
    {
     "data": {
      "text/plain": [
       "count    2014.000000\n",
       "mean        1.040218\n",
       "std         0.310235\n",
       "min         1.000000\n",
       "25%         1.000000\n",
       "50%         1.000000\n",
       "75%         1.000000\n",
       "max        11.000000\n",
       "dtype: float64"
      ]
     },
     "metadata": {},
     "output_type": "display_data"
    },
    {
     "data": {
      "text/plain": [
       "<AxesSubplot:>"
      ]
     },
     "metadata": {},
     "output_type": "display_data"
    },
    {
     "data": {
      "image/png": "[encoded data removed]",
      "text/plain": [
       "<Figure size 432x288 with 1 Axes>"
      ]
     },
     "metadata": {
      "needs_background": "light"
     },
     "output_type": "display_data"
    }
   ],
   "source": [
    "total_bigrams = [tuple(total_words[i:i + 2]) for i in range(len(total_words))]\n",
    "bigram_count = Counter(total_bigrams)\n",
    "print('Bigramas más comunes:', bigram_count.most_common(10))\n",
    "\n",
    "total_bigrams_s = pd.Series(bigram_count).sort_values()\n",
    "display(total_bigrams_s.describe())\n",
    "display(total_bigrams_s.plot(rot=315))"
   ]
  }
 ],
 "metadata": {
  "interpreter": {
   "hash": "c6e4e9f98eb68ad3b7c296f83d20e6de614cb42e90992a65aa266555a3137d0d"
  },
  "kernelspec": {
   "display_name": "Python 3.9.4 64-bit ('base': conda)",
   "name": "python3"
  },
  "language_info": {
   "codemirror_mode": {
    "name": "ipython",
    "version": 3
   },
   "file_extension": ".py",
   "mimetype": "text/x-python",
   "name": "python",
   "nbconvert_exporter": "python",
   "pygments_lexer": "ipython3",
   "version": "3.9.4"
  },
  "papermill": {
   "default_parameters": {},
   "duration": 10.579297,
   "end_time": "2021-06-17T04:35:48.773904",
   "environment_variables": {},
   "exception": null,
   "input_path": "__notebook__.ipynb",
   "output_path": "__notebook__.ipynb",
   "parameters": {},
   "start_time": "2021-06-17T04:35:38.194607",
   "version": "2.3.3"
  }
 },
 "nbformat": 4,
 "nbformat_minor": 5
}
