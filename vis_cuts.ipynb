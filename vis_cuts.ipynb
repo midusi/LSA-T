{
 "cells": [
  {
   "cell_type": "code",
   "execution_count": null,
   "metadata": {},
   "outputs": [],
   "source": [
    "import json, os\n",
    "from moviepy.editor import VideoFileClip\n",
    "\n",
    "def get_box(f):\n",
    "    with open(f) as data:\n",
    "        return json.load(data)['roi']\n",
    "\n",
    "for clip in [c for c in os.listdir(\"test\") if c.endswith(\".json\")]:\n",
    "    box = get_box(\"test/\" + clip)\n",
    "    VideoFileClip(\"test/{}mp4\".format(clip[:-4])).crop(x1=box['x1'], y1=box['y1'], x2=box['x1']+box['width'], y2=box['y1']+box['height']\n",
    "        ).write_gif(\"test/{}gif\".format(clip[:-4]), program='ffmpeg', fps=15)"
   ]
  },
  {
   "cell_type": "code",
   "execution_count": null,
   "metadata": {},
   "outputs": [],
   "source": [
    "from IPython.display import Image, Video\n",
    "from IPython.display import display\n",
    "\n",
    "\n",
    "for v in [c[:-4] for c in os.listdir(\"test\") if c.endswith(\".gif\")]:\n",
    "    display(Video(\"test/{}.mp4\".format(v), height=300))\n",
    "    display(Image(\"test/{}.gif\".format(v), height=300))"
   ]
  }
 ],
 "metadata": {
  "interpreter": {
   "hash": "a931f1cec853e25af2ee96364aa23a684a809b6da7e1defdac92b12dff587456"
  },
  "kernelspec": {
   "display_name": "Python 3.9.6 64-bit ('py39': conda)",
   "language": "python",
   "name": "python3"
  },
  "language_info": {
   "codemirror_mode": {
    "name": "ipython",
    "version": 3
   },
   "file_extension": ".py",
   "mimetype": "text/x-python",
   "name": "python",
   "nbconvert_exporter": "python",
   "pygments_lexer": "ipython3",
   "version": "3.9.4"
  },
  "orig_nbformat": 4
 },
 "nbformat": 4,
 "nbformat_minor": 2
}
