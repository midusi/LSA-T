{
 "cells": [
  {
   "cell_type": "code",
   "execution_count": 4,
   "metadata": {},
   "outputs": [],
   "source": [
    "import json, os, random\n",
    "from moviepy.editor import VideoFileClip\n",
    "from IPython.display import Video, display\n",
    "\n",
    "\n",
    "def draw_rectangle(box):\n",
    "    def draw(frame):\n",
    "        \"\"\"Draw a rectangle in the frame\"\"\"\n",
    "        # change (top, bottom, left, right) to your coordinates\n",
    "        fr = frame.copy()\n",
    "        bottom = int(box['y1'])\n",
    "        top = int(bottom + box['height'])\n",
    "        left = int(box['x1'])\n",
    "        right = int(left + box['width'])\n",
    "        fr[top-5:top+5, left:right] = 255 - fr[top-5:top+5, left:right]\n",
    "        fr[bottom-5:bottom+5, left:right] = 255 - fr[bottom-5:bottom+5, left:right]\n",
    "        fr[bottom:top, left-5:left+5] = 255 - fr[bottom:top, left-5:left+5]\n",
    "        fr[bottom:top, right-5:right+5] = 255 - fr[bottom:top, right-5:right+5]\n",
    "        return fr\n",
    "    return draw\n",
    "\n",
    "def update_clip_path(path):\n",
    "    def update_clip(clip):\n",
    "        with open(\"{}{}json\".format(path, clip)) as dataf:\n",
    "            data = json.load(dataf)\n",
    "        rec_clip = VideoFileClip(\"{}{}mp4\".format(path, clip))\n",
    "        final_clip = rec_clip.fl_image(draw_rectangle(data['roi']))\n",
    "        final_clip.write_videofile(\"data/temp/temp.mp4\", codec=\"libx264\", fps=15, verbose=False, logger=None)\n",
    "        return data\n",
    "    return update_clip\n",
    "\n",
    "path = \"data/test/\"\n",
    "update_clip = update_clip_path(path)\n",
    "vids = [c[:-4] for c in os.listdir(path) if c.endswith(\".json\")]"
   ]
  },
  {
   "cell_type": "code",
   "execution_count": 17,
   "metadata": {},
   "outputs": [
    {
     "name": "stdout",
     "output_type": "stream",
     "text": [
      "Video: 189.\n",
      "Label: recibirán a mucha gente de varios países.\n"
     ]
    },
    {
     "data": {
      "text/html": [
       "<video src=\"data/temp/temp.mp4\" controls   height=\"300\">\n",
       "      Your browser does not support the <code>video</code> element.\n",
       "    </video>"
      ],
      "text/plain": [
       "<IPython.core.display.Video object>"
      ]
     },
     "metadata": {},
     "output_type": "display_data"
    }
   ],
   "source": [
    "clip = random.choice(vids)\n",
    "\n",
    "data = update_clip(clip)\n",
    "\n",
    "print(\"Video: {}\".format(clip))\n",
    "print(\"Label: {}\".format(data['label']))\n",
    "display(Video(\"data/temp/temp.mp4\", height=300))"
   ]
  },
  {
   "cell_type": "code",
   "execution_count": 15,
   "metadata": {},
   "outputs": [
    {
     "name": "stdout",
     "output_type": "stream",
     "text": [
      "Errors: 2,\n"
     ]
    }
   ],
   "source": [
    "error = input(\"Crop error in video {}? y/[n]\".format(clip))\n",
    "if error == 'y':\n",
    "    with open(\"data/test/errors.csv\", 'a') as errors_f:\n",
    "        errors_f.write(clip[:-1] + ',')\n",
    "if os.path.isfile(\"data/test/errors.csv\"):\n",
    "    with open(\"data/test/errors.csv\", 'r') as errors_f:\n",
    "        print(\"Errors:\", errors_f.read())"
   ]
  },
  {
   "cell_type": "code",
   "execution_count": 16,
   "metadata": {},
   "outputs": [
    {
     "name": "stdout",
     "output_type": "stream",
     "text": [
      "Video: 1.\n",
      "Label: conducido por personas sordas.\n"
     ]
    },
    {
     "data": {
      "text/html": [
       "<video src=\"data/temp/temp.mp4\" controls   height=\"300\">\n",
       "      Your browser does not support the <code>video</code> element.\n",
       "    </video>"
      ],
      "text/plain": [
       "<IPython.core.display.Video object>"
      ]
     },
     "metadata": {},
     "output_type": "display_data"
    }
   ],
   "source": [
    "clip = input(\"Video number:\") + '.'\n",
    "\n",
    "data = update_clip(clip)\n",
    "\n",
    "print(\"Video: {}\".format(clip))\n",
    "print(\"Label: {}\".format(data['label']))\n",
    "display(Video(\"data/temp/temp.mp4\", height=300))"
   ]
  }
 ],
 "metadata": {
  "interpreter": {
   "hash": "a931f1cec853e25af2ee96364aa23a684a809b6da7e1defdac92b12dff587456"
  },
  "kernelspec": {
   "display_name": "Python 3.9.6 64-bit ('py39': conda)",
   "language": "python",
   "name": "python3"
  },
  "language_info": {
   "codemirror_mode": {
    "name": "ipython",
    "version": 3
   },
   "file_extension": ".py",
   "mimetype": "text/x-python",
   "name": "python",
   "nbconvert_exporter": "python",
   "pygments_lexer": "ipython3",
   "version": "3.9.4"
  },
  "orig_nbformat": 4
 },
 "nbformat": 4,
 "nbformat_minor": 2
}
