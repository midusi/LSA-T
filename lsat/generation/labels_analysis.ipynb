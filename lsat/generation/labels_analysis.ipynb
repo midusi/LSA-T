{
 "cells": [
  {
   "cell_type": "code",
   "execution_count": 1,
   "metadata": {},
   "outputs": [
    {
     "name": "stderr",
     "output_type": "stream",
     "text": [
      "[nltk_data] Downloading package stopwords to\n",
      "[nltk_data]     /home/pdalbianco/nltk_data...\n",
      "[nltk_data]   Package stopwords is already up-to-date!\n"
     ]
    },
    {
     "data": {
      "text/html": [
       "<div>\n",
       "<style scoped>\n",
       "    .dataframe tbody tr th:only-of-type {\n",
       "        vertical-align: middle;\n",
       "    }\n",
       "\n",
       "    .dataframe tbody tr th {\n",
       "        vertical-align: top;\n",
       "    }\n",
       "\n",
       "    .dataframe thead th {\n",
       "        text-align: right;\n",
       "    }\n",
       "</style>\n",
       "<table border=\"1\" class=\"dataframe\">\n",
       "  <thead>\n",
       "    <tr style=\"text-align: right;\">\n",
       "      <th></th>\n",
       "      <th>id</th>\n",
       "      <th>label</th>\n",
       "      <th>duration</th>\n",
       "    </tr>\n",
       "  </thead>\n",
       "  <tbody>\n",
       "    <tr>\n",
       "      <th>0</th>\n",
       "      <td>noticias-en-lengua-de-senas-argentina-resumen-...</td>\n",
       "      <td>dejar camino inglés país puño apretado gritand...</td>\n",
       "      <td>9.698</td>\n",
       "    </tr>\n",
       "    <tr>\n",
       "      <th>1</th>\n",
       "      <td>noticias-en-lengua-de-senas-argentina-resumen-...</td>\n",
       "      <td>mientras trabajábamos brindarte toda informac...</td>\n",
       "      <td>26.420</td>\n",
       "    </tr>\n",
       "    <tr>\n",
       "      <th>2</th>\n",
       "      <td>noticias-en-lengua-de-senas-argentina-resumen-...</td>\n",
       "      <td>recordado siempre programa homenaje persona</td>\n",
       "      <td>6.360</td>\n",
       "    </tr>\n",
       "    <tr>\n",
       "      <th>3</th>\n",
       "      <td>noticias-en-lengua-de-senas-argentina-resumen-...</td>\n",
       "      <td>buenas noches bienvenidos cn sordos argentina...</td>\n",
       "      <td>4.730</td>\n",
       "    </tr>\n",
       "    <tr>\n",
       "      <th>4</th>\n",
       "      <td>noticias-en-lengua-de-senas-argentina-resumen-...</td>\n",
       "      <td>nombre lucía</td>\n",
       "      <td>1.910</td>\n",
       "    </tr>\n",
       "  </tbody>\n",
       "</table>\n",
       "</div>"
      ],
      "text/plain": [
       "                                                  id  \\\n",
       "0  noticias-en-lengua-de-senas-argentina-resumen-...   \n",
       "1  noticias-en-lengua-de-senas-argentina-resumen-...   \n",
       "2  noticias-en-lengua-de-senas-argentina-resumen-...   \n",
       "3  noticias-en-lengua-de-senas-argentina-resumen-...   \n",
       "4  noticias-en-lengua-de-senas-argentina-resumen-...   \n",
       "\n",
       "                                               label  duration  \n",
       "0  dejar camino inglés país puño apretado gritand...     9.698  \n",
       "1   mientras trabajábamos brindarte toda informac...    26.420  \n",
       "2        recordado siempre programa homenaje persona     6.360  \n",
       "3   buenas noches bienvenidos cn sordos argentina...     4.730  \n",
       "4                                       nombre lucía     1.910  "
      ]
     },
     "metadata": {},
     "output_type": "display_data"
    },
    {
     "name": "stdout",
     "output_type": "stream",
     "text": [
      "Clips: 8459\n",
      "Total time: 22.006578611111117\n"
     ]
    }
   ],
   "source": [
    "import pandas as pd\n",
    "import nltk\n",
    "\n",
    "\n",
    "nltk.download('stopwords')\n",
    "stopword_list = nltk.corpus.stopwords.words(\"spanish\")\n",
    "\n",
    "\n",
    "def clean_label(label: str, invalid_chars: list[str], rep=\"\") -> str:\n",
    "    for c in invalid_chars:\n",
    "        label = label.replace(c, rep)\n",
    "    return ' '.join([word for word in label.split(' ') if word not in stopword_list])\n",
    "\n",
    "invalid_chars = ['\\n', ',', '.', '\"', '-', '?', '!', '¿', '¡', '_']\n",
    "\n",
    "\n",
    "labels = pd.read_csv('../data/labels.csv')[['id', 'label', 'duration']]\n",
    "labels['label'] = labels['label'].apply(lambda x: clean_label(x, invalid_chars))\n",
    "display(labels.head())\n",
    "print(f\"Clips: {labels['id'].count()}\")\n",
    "print(f\"Total time: {labels['duration'].sum() / 60 / 60}\")"
   ]
  },
  {
   "cell_type": "code",
   "execution_count": 2,
   "metadata": {},
   "outputs": [],
   "source": [
    "from collections import Counter\n",
    "\n",
    "\n",
    "def get_counter(labels: pd.DataFrame) -> (Counter, pd.DataFrame):\n",
    "\ttotal_words = [word for label in labels['label'] for word in label.split(' ')]\n",
    "\twords_freq = Counter(total_words)\n",
    "\n",
    "\twords_freq_df = pd.DataFrame([(w, f) for w, f in words_freq.items()], columns=['word', 'frequency']).sort_values(by='frequency', ascending=False)\n",
    "\treturn words_freq, words_freq_df"
   ]
  },
  {
   "cell_type": "markdown",
   "metadata": {},
   "source": [
    "## Word frequency"
   ]
  },
  {
   "cell_type": "code",
   "execution_count": 3,
   "metadata": {},
   "outputs": [
    {
     "data": {
      "text/html": [
       "<div>\n",
       "<style scoped>\n",
       "    .dataframe tbody tr th:only-of-type {\n",
       "        vertical-align: middle;\n",
       "    }\n",
       "\n",
       "    .dataframe tbody tr th {\n",
       "        vertical-align: top;\n",
       "    }\n",
       "\n",
       "    .dataframe thead th {\n",
       "        text-align: right;\n",
       "    }\n",
       "</style>\n",
       "<table border=\"1\" class=\"dataframe\">\n",
       "  <thead>\n",
       "    <tr style=\"text-align: right;\">\n",
       "      <th></th>\n",
       "      <th>word</th>\n",
       "      <th>frequency</th>\n",
       "    </tr>\n",
       "  </thead>\n",
       "  <tbody>\n",
       "    <tr>\n",
       "      <th>8915</th>\n",
       "      <td>acuerda</td>\n",
       "      <td>1</td>\n",
       "    </tr>\n",
       "    <tr>\n",
       "      <th>3662</th>\n",
       "      <td>entrerriana</td>\n",
       "      <td>1</td>\n",
       "    </tr>\n",
       "    <tr>\n",
       "      <th>8913</th>\n",
       "      <td>narrado</td>\n",
       "      <td>1</td>\n",
       "    </tr>\n",
       "    <tr>\n",
       "      <th>8912</th>\n",
       "      <td>haberla</td>\n",
       "      <td>1</td>\n",
       "    </tr>\n",
       "    <tr>\n",
       "      <th>8911</th>\n",
       "      <td>anécdota</td>\n",
       "      <td>1</td>\n",
       "    </tr>\n",
       "    <tr>\n",
       "      <th>8910</th>\n",
       "      <td>preguntan</td>\n",
       "      <td>1</td>\n",
       "    </tr>\n",
       "    <tr>\n",
       "      <th>3663</th>\n",
       "      <td>estandarte</td>\n",
       "      <td>1</td>\n",
       "    </tr>\n",
       "    <tr>\n",
       "      <th>3666</th>\n",
       "      <td>transformándose</td>\n",
       "      <td>1</td>\n",
       "    </tr>\n",
       "    <tr>\n",
       "      <th>8907</th>\n",
       "      <td>olvida</td>\n",
       "      <td>1</td>\n",
       "    </tr>\n",
       "    <tr>\n",
       "      <th>3667</th>\n",
       "      <td>sofisticado</td>\n",
       "      <td>1</td>\n",
       "    </tr>\n",
       "    <tr>\n",
       "      <th>8904</th>\n",
       "      <td>anomias</td>\n",
       "      <td>1</td>\n",
       "    </tr>\n",
       "    <tr>\n",
       "      <th>8903</th>\n",
       "      <td>justifican</td>\n",
       "      <td>1</td>\n",
       "    </tr>\n",
       "    <tr>\n",
       "      <th>3670</th>\n",
       "      <td>virtualidad</td>\n",
       "      <td>1</td>\n",
       "    </tr>\n",
       "    <tr>\n",
       "      <th>8900</th>\n",
       "      <td>concuerdan</td>\n",
       "      <td>1</td>\n",
       "    </tr>\n",
       "    <tr>\n",
       "      <th>8899</th>\n",
       "      <td>recuerdos</td>\n",
       "      <td>1</td>\n",
       "    </tr>\n",
       "    <tr>\n",
       "      <th>8898</th>\n",
       "      <td>autobiográfica</td>\n",
       "      <td>1</td>\n",
       "    </tr>\n",
       "    <tr>\n",
       "      <th>8897</th>\n",
       "      <td>episódica</td>\n",
       "      <td>1</td>\n",
       "    </tr>\n",
       "    <tr>\n",
       "      <th>8896</th>\n",
       "      <td>alterar</td>\n",
       "      <td>1</td>\n",
       "    </tr>\n",
       "    <tr>\n",
       "      <th>3671</th>\n",
       "      <td>encontrarse</td>\n",
       "      <td>1</td>\n",
       "    </tr>\n",
       "    <tr>\n",
       "      <th>14036</th>\n",
       "      <td>involucrar</td>\n",
       "      <td>1</td>\n",
       "    </tr>\n",
       "  </tbody>\n",
       "</table>\n",
       "</div>"
      ],
      "text/plain": [
       "                  word  frequency\n",
       "8915           acuerda          1\n",
       "3662       entrerriana          1\n",
       "8913           narrado          1\n",
       "8912           haberla          1\n",
       "8911          anécdota          1\n",
       "8910         preguntan          1\n",
       "3663        estandarte          1\n",
       "3666   transformándose          1\n",
       "8907            olvida          1\n",
       "3667       sofisticado          1\n",
       "8904           anomias          1\n",
       "8903        justifican          1\n",
       "3670       virtualidad          1\n",
       "8900        concuerdan          1\n",
       "8899         recuerdos          1\n",
       "8898    autobiográfica          1\n",
       "8897         episódica          1\n",
       "8896           alterar          1\n",
       "3671       encontrarse          1\n",
       "14036       involucrar          1"
      ]
     },
     "execution_count": 3,
     "metadata": {},
     "output_type": "execute_result"
    }
   ],
   "source": [
    "words, words_df = get_counter(labels)\n",
    "words_df.tail(20)"
   ]
  },
  {
   "cell_type": "code",
   "execution_count": 4,
   "metadata": {},
   "outputs": [
    {
     "data": {
      "text/html": [
       "<div>\n",
       "<style scoped>\n",
       "    .dataframe tbody tr th:only-of-type {\n",
       "        vertical-align: middle;\n",
       "    }\n",
       "\n",
       "    .dataframe tbody tr th {\n",
       "        vertical-align: top;\n",
       "    }\n",
       "\n",
       "    .dataframe thead th {\n",
       "        text-align: right;\n",
       "    }\n",
       "</style>\n",
       "<table border=\"1\" class=\"dataframe\">\n",
       "  <thead>\n",
       "    <tr style=\"text-align: right;\">\n",
       "      <th></th>\n",
       "      <th>frequency</th>\n",
       "    </tr>\n",
       "  </thead>\n",
       "  <tbody>\n",
       "    <tr>\n",
       "      <th>count</th>\n",
       "      <td>14037.000000</td>\n",
       "    </tr>\n",
       "    <tr>\n",
       "      <th>mean</th>\n",
       "      <td>5.047945</td>\n",
       "    </tr>\n",
       "    <tr>\n",
       "      <th>std</th>\n",
       "      <td>16.211982</td>\n",
       "    </tr>\n",
       "    <tr>\n",
       "      <th>min</th>\n",
       "      <td>1.000000</td>\n",
       "    </tr>\n",
       "    <tr>\n",
       "      <th>25%</th>\n",
       "      <td>1.000000</td>\n",
       "    </tr>\n",
       "    <tr>\n",
       "      <th>50%</th>\n",
       "      <td>1.000000</td>\n",
       "    </tr>\n",
       "    <tr>\n",
       "      <th>75%</th>\n",
       "      <td>3.000000</td>\n",
       "    </tr>\n",
       "    <tr>\n",
       "      <th>90%</th>\n",
       "      <td>9.000000</td>\n",
       "    </tr>\n",
       "    <tr>\n",
       "      <th>95%</th>\n",
       "      <td>18.000000</td>\n",
       "    </tr>\n",
       "    <tr>\n",
       "      <th>99%</th>\n",
       "      <td>60.000000</td>\n",
       "    </tr>\n",
       "    <tr>\n",
       "      <th>max</th>\n",
       "      <td>590.000000</td>\n",
       "    </tr>\n",
       "  </tbody>\n",
       "</table>\n",
       "</div>"
      ],
      "text/plain": [
       "          frequency\n",
       "count  14037.000000\n",
       "mean       5.047945\n",
       "std       16.211982\n",
       "min        1.000000\n",
       "25%        1.000000\n",
       "50%        1.000000\n",
       "75%        3.000000\n",
       "90%        9.000000\n",
       "95%       18.000000\n",
       "99%       60.000000\n",
       "max      590.000000"
      ]
     },
     "metadata": {},
     "output_type": "display_data"
    },
    {
     "data": {
      "text/plain": [
       "array([[<Axes: title={'center': 'frequency'}>]], dtype=object)"
      ]
     },
     "metadata": {},
     "output_type": "display_data"
    },
    {
     "data": {
      "image/png": "[encoded data removed]",
      "text/plain": [
       "<Figure size 640x480 with 1 Axes>"
      ]
     },
     "metadata": {},
     "output_type": "display_data"
    }
   ],
   "source": [
    "display(words_df.describe(percentiles=[.25, .5, .75, .9, .95, .99]))\n",
    "display(words_df.hist())"
   ]
  },
  {
   "cell_type": "code",
   "execution_count": 5,
   "metadata": {},
   "outputs": [
    {
     "data": {
      "text/plain": [
       "<Axes: xlabel='Word frequency', ylabel='Percentage'>"
      ]
     },
     "metadata": {},
     "output_type": "display_data"
    },
    {
     "data": {
      "image/png": "[encoded data removed]",
      "text/plain": [
       "<Figure size 640x480 with 1 Axes>"
      ]
     },
     "metadata": {},
     "output_type": "display_data"
    }
   ],
   "source": [
    "def simple_hist(words_df: pd.DataFrame) -> None:\n",
    "\twords_df_simple = words_df.copy()\n",
    "\twords_df_simple['frequency'] = [f if f < 10 else 10 for f in words_df_simple['frequency']]\n",
    "\tcounts = words_df_simple['frequency'].value_counts()\n",
    "\tcounts = 100*counts/counts.sum()\n",
    "\tfor i in range(1, 11):\n",
    "\t\tif i not in counts.index:\n",
    "\t\t\tcounts[i] = 0\n",
    "\tcounts.sort_index(inplace=True)\n",
    "\tplot = counts.plot.bar(rot=0, xlabel=\"Word frequency\", ylabel=\"Percentage\")\n",
    "\tplot.set_yticks(range(0, 110, 10))\n",
    "\tplot.set_yticklabels([f\"{i}%\" for i in range(0, 110, 10)])\n",
    "\tplot.set_xticklabels([f\"{i}\" if i != 10 else \">10\" for i in counts.index])\n",
    "\tdisplay(plot)\n",
    "\n",
    "simple_hist(words_df)"
   ]
  },
  {
   "cell_type": "markdown",
   "metadata": {},
   "source": [
    "## Only using labels that appear more than once"
   ]
  },
  {
   "cell_type": "code",
   "execution_count": 6,
   "metadata": {},
   "outputs": [
    {
     "data": {
      "text/plain": [
       "count    321.000000\n",
       "mean       2.781931\n",
       "std        1.815502\n",
       "min        2.000000\n",
       "25%        2.000000\n",
       "50%        2.000000\n",
       "75%        3.000000\n",
       "max       21.000000\n",
       "Name: count, dtype: float64"
      ]
     },
     "execution_count": 6,
     "metadata": {},
     "output_type": "execute_result"
    }
   ],
   "source": [
    "mto = labels['label'].value_counts()[labels['label'].value_counts() > 1]\n",
    "mto.describe()"
   ]
  },
  {
   "cell_type": "code",
   "execution_count": 7,
   "metadata": {},
   "outputs": [
    {
     "data": {
      "text/plain": [
       "label\n",
       "                                                      21\n",
       "así                                                   12\n",
       "interesante                                           11\n",
       " chau                                                 10\n",
       "hola cómo nombre lucía                                 9\n",
       "                                                      ..\n",
       "dale                                                   2\n",
       "personas sordas patagonia                              2\n",
       "tres puntos tener cuenta                               2\n",
       "quedan muestro sepan                                   2\n",
       "comienza proceso disminuyeron ahora mandan bodegas     2\n",
       "Name: count, Length: 200, dtype: int64"
      ]
     },
     "execution_count": 7,
     "metadata": {},
     "output_type": "execute_result"
    }
   ],
   "source": [
    "mto.head(200)"
   ]
  },
  {
   "cell_type": "code",
   "execution_count": 8,
   "metadata": {},
   "outputs": [
    {
     "data": {
      "text/html": [
       "<div>\n",
       "<style scoped>\n",
       "    .dataframe tbody tr th:only-of-type {\n",
       "        vertical-align: middle;\n",
       "    }\n",
       "\n",
       "    .dataframe tbody tr th {\n",
       "        vertical-align: top;\n",
       "    }\n",
       "\n",
       "    .dataframe thead th {\n",
       "        text-align: right;\n",
       "    }\n",
       "</style>\n",
       "<table border=\"1\" class=\"dataframe\">\n",
       "  <thead>\n",
       "    <tr style=\"text-align: right;\">\n",
       "      <th></th>\n",
       "      <th>id</th>\n",
       "      <th>label</th>\n",
       "      <th>duration</th>\n",
       "    </tr>\n",
       "  </thead>\n",
       "  <tbody>\n",
       "    <tr>\n",
       "      <th>4</th>\n",
       "      <td>noticias-en-lengua-de-senas-argentina-resumen-...</td>\n",
       "      <td>nombre lucía</td>\n",
       "      <td>1.91</td>\n",
       "    </tr>\n",
       "    <tr>\n",
       "      <th>39</th>\n",
       "      <td>noticias-en-lengua-de-senas-argentina-resumen-...</td>\n",
       "      <td>difícil</td>\n",
       "      <td>1.00</td>\n",
       "    </tr>\n",
       "    <tr>\n",
       "      <th>52</th>\n",
       "      <td>noticias-en-lengua-de-senas-argentina-resumen-...</td>\n",
       "      <td>vemos chau</td>\n",
       "      <td>2.09</td>\n",
       "    </tr>\n",
       "    <tr>\n",
       "      <th>166</th>\n",
       "      <td>noticias-en-lengua-de-senas-argentina-lsa-resu...</td>\n",
       "      <td>bienvenidos cómo bien</td>\n",
       "      <td>2.94</td>\n",
       "    </tr>\n",
       "    <tr>\n",
       "      <th>168</th>\n",
       "      <td>noticias-en-lengua-de-senas-argentina-lsa-resu...</td>\n",
       "      <td>lautaro</td>\n",
       "      <td>1.57</td>\n",
       "    </tr>\n",
       "  </tbody>\n",
       "</table>\n",
       "</div>"
      ],
      "text/plain": [
       "                                                    id                  label  \\\n",
       "4    noticias-en-lengua-de-senas-argentina-resumen-...           nombre lucía   \n",
       "39   noticias-en-lengua-de-senas-argentina-resumen-...                difícil   \n",
       "52   noticias-en-lengua-de-senas-argentina-resumen-...             vemos chau   \n",
       "166  noticias-en-lengua-de-senas-argentina-lsa-resu...  bienvenidos cómo bien   \n",
       "168  noticias-en-lengua-de-senas-argentina-lsa-resu...                lautaro   \n",
       "\n",
       "     duration  \n",
       "4        1.91  \n",
       "39       1.00  \n",
       "52       2.09  \n",
       "166      2.94  \n",
       "168      1.57  "
      ]
     },
     "metadata": {},
     "output_type": "display_data"
    },
    {
     "name": "stdout",
     "output_type": "stream",
     "text": [
      "Clips: 893\n",
      "Total time: 1.3457308333333349\n"
     ]
    }
   ],
   "source": [
    "labels_mto = labels[labels['label'].isin(mto.index)]\n",
    "display(labels_mto.head())\n",
    "print(f\"Clips: {labels_mto['id'].count()}\")\n",
    "print(f\"Total time: {labels_mto['duration'].sum() / 60 / 60}\")"
   ]
  },
  {
   "cell_type": "code",
   "execution_count": 9,
   "metadata": {},
   "outputs": [
    {
     "data": {
      "text/html": [
       "<div>\n",
       "<style scoped>\n",
       "    .dataframe tbody tr th:only-of-type {\n",
       "        vertical-align: middle;\n",
       "    }\n",
       "\n",
       "    .dataframe tbody tr th {\n",
       "        vertical-align: top;\n",
       "    }\n",
       "\n",
       "    .dataframe thead th {\n",
       "        text-align: right;\n",
       "    }\n",
       "</style>\n",
       "<table border=\"1\" class=\"dataframe\">\n",
       "  <thead>\n",
       "    <tr style=\"text-align: right;\">\n",
       "      <th></th>\n",
       "      <th>frequency</th>\n",
       "    </tr>\n",
       "  </thead>\n",
       "  <tbody>\n",
       "    <tr>\n",
       "      <th>count</th>\n",
       "      <td>910.000000</td>\n",
       "    </tr>\n",
       "    <tr>\n",
       "      <th>mean</th>\n",
       "      <td>4.776923</td>\n",
       "    </tr>\n",
       "    <tr>\n",
       "      <th>std</th>\n",
       "      <td>6.824027</td>\n",
       "    </tr>\n",
       "    <tr>\n",
       "      <th>min</th>\n",
       "      <td>2.000000</td>\n",
       "    </tr>\n",
       "    <tr>\n",
       "      <th>25%</th>\n",
       "      <td>2.000000</td>\n",
       "    </tr>\n",
       "    <tr>\n",
       "      <th>50%</th>\n",
       "      <td>2.000000</td>\n",
       "    </tr>\n",
       "    <tr>\n",
       "      <th>75%</th>\n",
       "      <td>4.000000</td>\n",
       "    </tr>\n",
       "    <tr>\n",
       "      <th>90%</th>\n",
       "      <td>9.000000</td>\n",
       "    </tr>\n",
       "    <tr>\n",
       "      <th>95%</th>\n",
       "      <td>17.000000</td>\n",
       "    </tr>\n",
       "    <tr>\n",
       "      <th>99%</th>\n",
       "      <td>35.640000</td>\n",
       "    </tr>\n",
       "    <tr>\n",
       "      <th>max</th>\n",
       "      <td>73.000000</td>\n",
       "    </tr>\n",
       "  </tbody>\n",
       "</table>\n",
       "</div>"
      ],
      "text/plain": [
       "        frequency\n",
       "count  910.000000\n",
       "mean     4.776923\n",
       "std      6.824027\n",
       "min      2.000000\n",
       "25%      2.000000\n",
       "50%      2.000000\n",
       "75%      4.000000\n",
       "90%      9.000000\n",
       "95%     17.000000\n",
       "99%     35.640000\n",
       "max     73.000000"
      ]
     },
     "metadata": {},
     "output_type": "display_data"
    },
    {
     "data": {
      "text/plain": [
       "array([[<Axes: title={'center': 'frequency'}>]], dtype=object)"
      ]
     },
     "metadata": {},
     "output_type": "display_data"
    },
    {
     "data": {
      "image/png": "[encoded data removed]",
      "text/plain": [
       "<Figure size 500x500 with 1 Axes>"
      ]
     },
     "metadata": {},
     "output_type": "display_data"
    }
   ],
   "source": [
    "words_mto, words_mto_df = get_counter(labels_mto)\n",
    "display(words_mto_df.describe(percentiles=[.25, .5, .75, .9, .95, .99]))\n",
    "display(words_mto_df.hist(figsize=(5, 5)))"
   ]
  },
  {
   "cell_type": "code",
   "execution_count": 10,
   "metadata": {},
   "outputs": [
    {
     "data": {
      "text/plain": [
       "<Axes: xlabel='Word frequency', ylabel='Percentage'>"
      ]
     },
     "metadata": {},
     "output_type": "display_data"
    },
    {
     "data": {
      "image/png": "[encoded data removed]",
      "text/plain": [
       "<Figure size 640x480 with 1 Axes>"
      ]
     },
     "metadata": {},
     "output_type": "display_data"
    }
   ],
   "source": [
    "simple_hist(words_mto_df)"
   ]
  },
  {
   "cell_type": "markdown",
   "metadata": {},
   "source": [
    "### Adding videos with words that only appear in previous set of words"
   ]
  },
  {
   "cell_type": "code",
   "execution_count": 11,
   "metadata": {},
   "outputs": [
    {
     "data": {
      "text/html": [
       "<div>\n",
       "<style scoped>\n",
       "    .dataframe tbody tr th:only-of-type {\n",
       "        vertical-align: middle;\n",
       "    }\n",
       "\n",
       "    .dataframe tbody tr th {\n",
       "        vertical-align: top;\n",
       "    }\n",
       "\n",
       "    .dataframe thead th {\n",
       "        text-align: right;\n",
       "    }\n",
       "</style>\n",
       "<table border=\"1\" class=\"dataframe\">\n",
       "  <thead>\n",
       "    <tr style=\"text-align: right;\">\n",
       "      <th></th>\n",
       "      <th>id</th>\n",
       "      <th>label</th>\n",
       "      <th>duration</th>\n",
       "    </tr>\n",
       "  </thead>\n",
       "  <tbody>\n",
       "    <tr>\n",
       "      <th>4</th>\n",
       "      <td>noticias-en-lengua-de-senas-argentina-resumen-...</td>\n",
       "      <td>nombre lucía</td>\n",
       "      <td>1.91</td>\n",
       "    </tr>\n",
       "    <tr>\n",
       "      <th>14</th>\n",
       "      <td>noticias-en-lengua-de-senas-argentina-resumen-...</td>\n",
       "      <td>hola</td>\n",
       "      <td>2.85</td>\n",
       "    </tr>\n",
       "    <tr>\n",
       "      <th>39</th>\n",
       "      <td>noticias-en-lengua-de-senas-argentina-resumen-...</td>\n",
       "      <td>difícil</td>\n",
       "      <td>1.00</td>\n",
       "    </tr>\n",
       "    <tr>\n",
       "      <th>47</th>\n",
       "      <td>noticias-en-lengua-de-senas-argentina-resumen-...</td>\n",
       "      <td>veremos pasa diciembre</td>\n",
       "      <td>1.73</td>\n",
       "    </tr>\n",
       "    <tr>\n",
       "      <th>52</th>\n",
       "      <td>noticias-en-lengua-de-senas-argentina-resumen-...</td>\n",
       "      <td>vemos chau</td>\n",
       "      <td>2.09</td>\n",
       "    </tr>\n",
       "  </tbody>\n",
       "</table>\n",
       "</div>"
      ],
      "text/plain": [
       "                                                   id                   label  \\\n",
       "4   noticias-en-lengua-de-senas-argentina-resumen-...            nombre lucía   \n",
       "14  noticias-en-lengua-de-senas-argentina-resumen-...                    hola   \n",
       "39  noticias-en-lengua-de-senas-argentina-resumen-...                 difícil   \n",
       "47  noticias-en-lengua-de-senas-argentina-resumen-...  veremos pasa diciembre   \n",
       "52  noticias-en-lengua-de-senas-argentina-resumen-...              vemos chau   \n",
       "\n",
       "    duration  \n",
       "4       1.91  \n",
       "14      2.85  \n",
       "39      1.00  \n",
       "47      1.73  \n",
       "52      2.09  "
      ]
     },
     "metadata": {},
     "output_type": "display_data"
    },
    {
     "name": "stdout",
     "output_type": "stream",
     "text": [
      "Clips: 1246\n",
      "Total time: 1.7248333333333352\n"
     ]
    }
   ],
   "source": [
    "labels_mto_plus = labels[labels['label'].apply(lambda x: all([word in words_mto.keys() or word in stopword_list for word in x.split(\" \")]))]\n",
    "display(labels_mto_plus.head())\n",
    "print(f\"Clips: {labels_mto_plus['id'].count()}\")\n",
    "print(f\"Total time: {labels_mto_plus['duration'].sum() / 60 / 60}\")"
   ]
  },
  {
   "cell_type": "code",
   "execution_count": 12,
   "metadata": {},
   "outputs": [
    {
     "data": {
      "text/plain": [
       "674"
      ]
     },
     "execution_count": 12,
     "metadata": {},
     "output_type": "execute_result"
    }
   ],
   "source": [
    "labels_mto_plus[\"label\"].nunique()"
   ]
  },
  {
   "cell_type": "code",
   "execution_count": 13,
   "metadata": {},
   "outputs": [
    {
     "data": {
      "text/html": [
       "<div>\n",
       "<style scoped>\n",
       "    .dataframe tbody tr th:only-of-type {\n",
       "        vertical-align: middle;\n",
       "    }\n",
       "\n",
       "    .dataframe tbody tr th {\n",
       "        vertical-align: top;\n",
       "    }\n",
       "\n",
       "    .dataframe thead th {\n",
       "        text-align: right;\n",
       "    }\n",
       "</style>\n",
       "<table border=\"1\" class=\"dataframe\">\n",
       "  <thead>\n",
       "    <tr style=\"text-align: right;\">\n",
       "      <th></th>\n",
       "      <th>frequency</th>\n",
       "    </tr>\n",
       "  </thead>\n",
       "  <tbody>\n",
       "    <tr>\n",
       "      <th>count</th>\n",
       "      <td>910.000000</td>\n",
       "    </tr>\n",
       "    <tr>\n",
       "      <th>mean</th>\n",
       "      <td>6.340659</td>\n",
       "    </tr>\n",
       "    <tr>\n",
       "      <th>std</th>\n",
       "      <td>10.597050</td>\n",
       "    </tr>\n",
       "    <tr>\n",
       "      <th>min</th>\n",
       "      <td>2.000000</td>\n",
       "    </tr>\n",
       "    <tr>\n",
       "      <th>25%</th>\n",
       "      <td>2.000000</td>\n",
       "    </tr>\n",
       "    <tr>\n",
       "      <th>50%</th>\n",
       "      <td>3.000000</td>\n",
       "    </tr>\n",
       "    <tr>\n",
       "      <th>75%</th>\n",
       "      <td>5.000000</td>\n",
       "    </tr>\n",
       "    <tr>\n",
       "      <th>90%</th>\n",
       "      <td>12.000000</td>\n",
       "    </tr>\n",
       "    <tr>\n",
       "      <th>95%</th>\n",
       "      <td>22.000000</td>\n",
       "    </tr>\n",
       "    <tr>\n",
       "      <th>99%</th>\n",
       "      <td>59.460000</td>\n",
       "    </tr>\n",
       "    <tr>\n",
       "      <th>max</th>\n",
       "      <td>107.000000</td>\n",
       "    </tr>\n",
       "  </tbody>\n",
       "</table>\n",
       "</div>"
      ],
      "text/plain": [
       "        frequency\n",
       "count  910.000000\n",
       "mean     6.340659\n",
       "std     10.597050\n",
       "min      2.000000\n",
       "25%      2.000000\n",
       "50%      3.000000\n",
       "75%      5.000000\n",
       "90%     12.000000\n",
       "95%     22.000000\n",
       "99%     59.460000\n",
       "max    107.000000"
      ]
     },
     "metadata": {},
     "output_type": "display_data"
    },
    {
     "data": {
      "text/plain": [
       "array([[<Axes: title={'center': 'frequency'}>]], dtype=object)"
      ]
     },
     "metadata": {},
     "output_type": "display_data"
    },
    {
     "data": {
      "image/png": "[encoded data removed]",
      "text/plain": [
       "<Figure size 500x500 with 1 Axes>"
      ]
     },
     "metadata": {},
     "output_type": "display_data"
    }
   ],
   "source": [
    "words_mto_plus, words_mto_plus_df = get_counter(labels_mto_plus)\n",
    "display(words_mto_plus_df.describe(percentiles=[.25, .5, .75, .9, .95, .99]))\n",
    "display(words_mto_plus_df.hist(figsize=(5, 5)))"
   ]
  },
  {
   "cell_type": "code",
   "execution_count": 14,
   "metadata": {},
   "outputs": [
    {
     "data": {
      "text/plain": [
       "<Axes: xlabel='Word frequency', ylabel='Percentage'>"
      ]
     },
     "metadata": {},
     "output_type": "display_data"
    },
    {
     "data": {
      "image/png": "[encoded data removed]",
      "text/plain": [
       "<Figure size 640x480 with 1 Axes>"
      ]
     },
     "metadata": {},
     "output_type": "display_data"
    }
   ],
   "source": [
    "simple_hist(words_mto_plus_df)"
   ]
  },
  {
   "cell_type": "code",
   "execution_count": 15,
   "metadata": {},
   "outputs": [],
   "source": [
    "labels_mto_plus[\"id\"].to_csv(\"../data/labels_mto_plus.csv\", index=False)"
   ]
  },
  {
   "cell_type": "markdown",
   "metadata": {},
   "source": [
    "## Discarding those that contain words with frequency lower than threshold"
   ]
  },
  {
   "cell_type": "code",
   "execution_count": 14,
   "metadata": {},
   "outputs": [
    {
     "data": {
      "text/html": [
       "<div>\n",
       "<style scoped>\n",
       "    .dataframe tbody tr th:only-of-type {\n",
       "        vertical-align: middle;\n",
       "    }\n",
       "\n",
       "    .dataframe tbody tr th {\n",
       "        vertical-align: top;\n",
       "    }\n",
       "\n",
       "    .dataframe thead th {\n",
       "        text-align: right;\n",
       "    }\n",
       "</style>\n",
       "<table border=\"1\" class=\"dataframe\">\n",
       "  <thead>\n",
       "    <tr style=\"text-align: right;\">\n",
       "      <th></th>\n",
       "      <th>id</th>\n",
       "      <th>label</th>\n",
       "      <th>duration</th>\n",
       "      <th>frequency</th>\n",
       "    </tr>\n",
       "  </thead>\n",
       "  <tbody>\n",
       "    <tr>\n",
       "      <th>0</th>\n",
       "      <td>noticias-en-lengua-de-senas-argentina-resumen-...</td>\n",
       "      <td>dejar camino inglés país puño apretado gritand...</td>\n",
       "      <td>9.698</td>\n",
       "      <td>[21, 16, 13, 113, 1, 1, 2, 381, 381, 34]</td>\n",
       "    </tr>\n",
       "    <tr>\n",
       "      <th>1</th>\n",
       "      <td>noticias-en-lengua-de-senas-argentina-resumen-...</td>\n",
       "      <td>mientras trabajábamos brindarte toda informac...</td>\n",
       "      <td>26.420</td>\n",
       "      <td>[102, 43, 3, 1, 96, 114, 114, 70, 3, 13, 8, 1,...</td>\n",
       "    </tr>\n",
       "    <tr>\n",
       "      <th>2</th>\n",
       "      <td>noticias-en-lengua-de-senas-argentina-resumen-...</td>\n",
       "      <td>recordado siempre programa homenaje persona</td>\n",
       "      <td>6.360</td>\n",
       "      <td>[1, 135, 70, 7, 145]</td>\n",
       "    </tr>\n",
       "    <tr>\n",
       "      <th>3</th>\n",
       "      <td>noticias-en-lengua-de-senas-argentina-resumen-...</td>\n",
       "      <td>buenas noches bienvenidos cn sordos argentina...</td>\n",
       "      <td>4.730</td>\n",
       "      <td>[102, 5, 2, 62, 223, 434, 381, 114, 47, 381, 3...</td>\n",
       "    </tr>\n",
       "    <tr>\n",
       "      <th>4</th>\n",
       "      <td>noticias-en-lengua-de-senas-argentina-resumen-...</td>\n",
       "      <td>nombre lucía</td>\n",
       "      <td>1.910</td>\n",
       "      <td>[135, 57]</td>\n",
       "    </tr>\n",
       "  </tbody>\n",
       "</table>\n",
       "</div>"
      ],
      "text/plain": [
       "                                                  id  \\\n",
       "0  noticias-en-lengua-de-senas-argentina-resumen-...   \n",
       "1  noticias-en-lengua-de-senas-argentina-resumen-...   \n",
       "2  noticias-en-lengua-de-senas-argentina-resumen-...   \n",
       "3  noticias-en-lengua-de-senas-argentina-resumen-...   \n",
       "4  noticias-en-lengua-de-senas-argentina-resumen-...   \n",
       "\n",
       "                                               label  duration  \\\n",
       "0  dejar camino inglés país puño apretado gritand...     9.698   \n",
       "1   mientras trabajábamos brindarte toda informac...    26.420   \n",
       "2        recordado siempre programa homenaje persona     6.360   \n",
       "3   buenas noches bienvenidos cn sordos argentina...     4.730   \n",
       "4                                       nombre lucía     1.910   \n",
       "\n",
       "                                           frequency  \n",
       "0           [21, 16, 13, 113, 1, 1, 2, 381, 381, 34]  \n",
       "1  [102, 43, 3, 1, 96, 114, 114, 70, 3, 13, 8, 1,...  \n",
       "2                               [1, 135, 70, 7, 145]  \n",
       "3  [102, 5, 2, 62, 223, 434, 381, 114, 47, 381, 3...  \n",
       "4                                          [135, 57]  "
      ]
     },
     "execution_count": 14,
     "metadata": {},
     "output_type": "execute_result"
    }
   ],
   "source": [
    "labels['frequency'] = labels['label'].apply(lambda x: list(filter(lambda f: f>0, map(lambda w: words[w], x.split(\" \")))))\n",
    "labels.head()"
   ]
  },
  {
   "cell_type": "code",
   "execution_count": 15,
   "metadata": {},
   "outputs": [
    {
     "data": {
      "text/html": [
       "<div>\n",
       "<style scoped>\n",
       "    .dataframe tbody tr th:only-of-type {\n",
       "        vertical-align: middle;\n",
       "    }\n",
       "\n",
       "    .dataframe tbody tr th {\n",
       "        vertical-align: top;\n",
       "    }\n",
       "\n",
       "    .dataframe thead th {\n",
       "        text-align: right;\n",
       "    }\n",
       "</style>\n",
       "<table border=\"1\" class=\"dataframe\">\n",
       "  <thead>\n",
       "    <tr style=\"text-align: right;\">\n",
       "      <th></th>\n",
       "      <th>id</th>\n",
       "      <th>label</th>\n",
       "      <th>duration</th>\n",
       "      <th>frequency</th>\n",
       "    </tr>\n",
       "  </thead>\n",
       "  <tbody>\n",
       "    <tr>\n",
       "      <th>3</th>\n",
       "      <td>noticias-en-lengua-de-senas-argentina-resumen-...</td>\n",
       "      <td>buenas noches bienvenidos cn sordos argentina...</td>\n",
       "      <td>4.73</td>\n",
       "      <td>[102, 5, 2, 62, 223, 434, 381, 114, 47, 381, 3...</td>\n",
       "    </tr>\n",
       "    <tr>\n",
       "      <th>4</th>\n",
       "      <td>noticias-en-lengua-de-senas-argentina-resumen-...</td>\n",
       "      <td>nombre lucía</td>\n",
       "      <td>1.91</td>\n",
       "      <td>[135, 57]</td>\n",
       "    </tr>\n",
       "    <tr>\n",
       "      <th>5</th>\n",
       "      <td>noticias-en-lengua-de-senas-argentina-resumen-...</td>\n",
       "      <td>votan martes</td>\n",
       "      <td>2.03</td>\n",
       "      <td>[2, 32]</td>\n",
       "    </tr>\n",
       "    <tr>\n",
       "      <th>6</th>\n",
       "      <td>noticias-en-lengua-de-senas-argentina-resumen-...</td>\n",
       "      <td>avances investigaciones vacunas coronavirus</td>\n",
       "      <td>4.76</td>\n",
       "      <td>[9, 5, 70, 89]</td>\n",
       "    </tr>\n",
       "    <tr>\n",
       "      <th>7</th>\n",
       "      <td>noticias-en-lengua-de-senas-argentina-resumen-...</td>\n",
       "      <td>cuáles novedades auh</td>\n",
       "      <td>3.18</td>\n",
       "      <td>[19, 20, 3]</td>\n",
       "    </tr>\n",
       "  </tbody>\n",
       "</table>\n",
       "</div>"
      ],
      "text/plain": [
       "                                                  id  \\\n",
       "3  noticias-en-lengua-de-senas-argentina-resumen-...   \n",
       "4  noticias-en-lengua-de-senas-argentina-resumen-...   \n",
       "5  noticias-en-lengua-de-senas-argentina-resumen-...   \n",
       "6  noticias-en-lengua-de-senas-argentina-resumen-...   \n",
       "7  noticias-en-lengua-de-senas-argentina-resumen-...   \n",
       "\n",
       "                                               label  duration  \\\n",
       "3   buenas noches bienvenidos cn sordos argentina...      4.73   \n",
       "4                                       nombre lucía      1.91   \n",
       "5                                       votan martes      2.03   \n",
       "6        avances investigaciones vacunas coronavirus      4.76   \n",
       "7                               cuáles novedades auh      3.18   \n",
       "\n",
       "                                           frequency  \n",
       "3  [102, 5, 2, 62, 223, 434, 381, 114, 47, 381, 3...  \n",
       "4                                          [135, 57]  \n",
       "5                                            [2, 32]  \n",
       "6                                     [9, 5, 70, 89]  \n",
       "7                                        [19, 20, 3]  "
      ]
     },
     "metadata": {},
     "output_type": "display_data"
    },
    {
     "name": "stdout",
     "output_type": "stream",
     "text": [
      "Clips: 4757\n",
      "Total time: 8.919238333333334\n"
     ]
    }
   ],
   "source": [
    "labels_threshold = labels[labels['frequency'].apply(lambda x: min(x) > 1 if len(x) > 0 else False)]\n",
    "display(labels_threshold.head())\n",
    "print(f\"Clips: {labels_threshold['id'].count()}\")\n",
    "print(f\"Total time: {labels_threshold['duration'].sum() / 60 / 60}\")"
   ]
  },
  {
   "cell_type": "code",
   "execution_count": 16,
   "metadata": {},
   "outputs": [
    {
     "data": {
      "text/html": [
       "<div>\n",
       "<style scoped>\n",
       "    .dataframe tbody tr th:only-of-type {\n",
       "        vertical-align: middle;\n",
       "    }\n",
       "\n",
       "    .dataframe tbody tr th {\n",
       "        vertical-align: top;\n",
       "    }\n",
       "\n",
       "    .dataframe thead th {\n",
       "        text-align: right;\n",
       "    }\n",
       "</style>\n",
       "<table border=\"1\" class=\"dataframe\">\n",
       "  <thead>\n",
       "    <tr style=\"text-align: right;\">\n",
       "      <th></th>\n",
       "      <th>frequency</th>\n",
       "    </tr>\n",
       "  </thead>\n",
       "  <tbody>\n",
       "    <tr>\n",
       "      <th>count</th>\n",
       "      <td>5214.000000</td>\n",
       "    </tr>\n",
       "    <tr>\n",
       "      <th>mean</th>\n",
       "      <td>5.671845</td>\n",
       "    </tr>\n",
       "    <tr>\n",
       "      <th>std</th>\n",
       "      <td>14.308161</td>\n",
       "    </tr>\n",
       "    <tr>\n",
       "      <th>min</th>\n",
       "      <td>1.000000</td>\n",
       "    </tr>\n",
       "    <tr>\n",
       "      <th>25%</th>\n",
       "      <td>1.000000</td>\n",
       "    </tr>\n",
       "    <tr>\n",
       "      <th>50%</th>\n",
       "      <td>2.000000</td>\n",
       "    </tr>\n",
       "    <tr>\n",
       "      <th>75%</th>\n",
       "      <td>5.000000</td>\n",
       "    </tr>\n",
       "    <tr>\n",
       "      <th>90%</th>\n",
       "      <td>11.000000</td>\n",
       "    </tr>\n",
       "    <tr>\n",
       "      <th>95%</th>\n",
       "      <td>19.000000</td>\n",
       "    </tr>\n",
       "    <tr>\n",
       "      <th>99%</th>\n",
       "      <td>65.870000</td>\n",
       "    </tr>\n",
       "    <tr>\n",
       "      <th>max</th>\n",
       "      <td>285.000000</td>\n",
       "    </tr>\n",
       "  </tbody>\n",
       "</table>\n",
       "</div>"
      ],
      "text/plain": [
       "         frequency\n",
       "count  5214.000000\n",
       "mean      5.671845\n",
       "std      14.308161\n",
       "min       1.000000\n",
       "25%       1.000000\n",
       "50%       2.000000\n",
       "75%       5.000000\n",
       "90%      11.000000\n",
       "95%      19.000000\n",
       "99%      65.870000\n",
       "max     285.000000"
      ]
     },
     "metadata": {},
     "output_type": "display_data"
    },
    {
     "data": {
      "image/png": "[encoded data removed]",
      "text/plain": [
       "<Figure size 500x500 with 1 Axes>"
      ]
     },
     "metadata": {},
     "output_type": "display_data"
    }
   ],
   "source": [
    "words_threshold, words_threshold_df = get_counter(labels_threshold)\n",
    "display(words_threshold_df.describe(percentiles=[.25, .5, .75, .9, .95, .99]))\n",
    "words_hist_fig = words_threshold_df.hist(figsize=(5, 5))"
   ]
  },
  {
   "cell_type": "code",
   "execution_count": 17,
   "metadata": {},
   "outputs": [
    {
     "data": {
      "text/plain": [
       "<Axes: xlabel='Word frequency', ylabel='Percentage'>"
      ]
     },
     "metadata": {},
     "output_type": "display_data"
    },
    {
     "data": {
      "image/png": "[encoded data removed]",
      "text/plain": [
       "<Figure size 640x480 with 1 Axes>"
      ]
     },
     "metadata": {},
     "output_type": "display_data"
    }
   ],
   "source": [
    "simple_hist(words_threshold_df)"
   ]
  },
  {
   "cell_type": "markdown",
   "metadata": {},
   "source": [
    "## Considering mean/median frequency"
   ]
  },
  {
   "cell_type": "code",
   "execution_count": 18,
   "metadata": {},
   "outputs": [
    {
     "data": {
      "text/html": [
       "<div>\n",
       "<style scoped>\n",
       "    .dataframe tbody tr th:only-of-type {\n",
       "        vertical-align: middle;\n",
       "    }\n",
       "\n",
       "    .dataframe tbody tr th {\n",
       "        vertical-align: top;\n",
       "    }\n",
       "\n",
       "    .dataframe thead th {\n",
       "        text-align: right;\n",
       "    }\n",
       "</style>\n",
       "<table border=\"1\" class=\"dataframe\">\n",
       "  <thead>\n",
       "    <tr style=\"text-align: right;\">\n",
       "      <th></th>\n",
       "      <th>id</th>\n",
       "      <th>label</th>\n",
       "      <th>duration</th>\n",
       "      <th>frequency</th>\n",
       "    </tr>\n",
       "  </thead>\n",
       "  <tbody>\n",
       "    <tr>\n",
       "      <th>3</th>\n",
       "      <td>noticias-en-lengua-de-senas-argentina-resumen-...</td>\n",
       "      <td>buenas noches bienvenidos cn sordos argentina...</td>\n",
       "      <td>4.73</td>\n",
       "      <td>[102, 5, 2, 62, 223, 434, 381, 114, 47, 381, 3...</td>\n",
       "    </tr>\n",
       "    <tr>\n",
       "      <th>14</th>\n",
       "      <td>noticias-en-lengua-de-senas-argentina-resumen-...</td>\n",
       "      <td>hola</td>\n",
       "      <td>2.85</td>\n",
       "      <td>[102, 182]</td>\n",
       "    </tr>\n",
       "    <tr>\n",
       "      <th>25</th>\n",
       "      <td>noticias-en-lengua-de-senas-argentina-resumen-...</td>\n",
       "      <td>incertidumbre si persona coronavirus si rescat...</td>\n",
       "      <td>5.90</td>\n",
       "      <td>[2, 365, 145, 89, 365, 1, 228, 1]</td>\n",
       "    </tr>\n",
       "    <tr>\n",
       "      <th>41</th>\n",
       "      <td>noticias-en-lengua-de-senas-argentina-resumen-...</td>\n",
       "      <td>cómo cambió veremos cómo va próximos días</td>\n",
       "      <td>4.49</td>\n",
       "      <td>[356, 5, 14, 356, 116, 17, 116]</td>\n",
       "    </tr>\n",
       "    <tr>\n",
       "      <th>45</th>\n",
       "      <td>noticias-en-lengua-de-senas-argentina-resumen-...</td>\n",
       "      <td>cómo protocolo lugar público</td>\n",
       "      <td>1.37</td>\n",
       "      <td>[356, 28, 112, 35]</td>\n",
       "    </tr>\n",
       "  </tbody>\n",
       "</table>\n",
       "</div>"
      ],
      "text/plain": [
       "                                                   id  \\\n",
       "3   noticias-en-lengua-de-senas-argentina-resumen-...   \n",
       "14  noticias-en-lengua-de-senas-argentina-resumen-...   \n",
       "25  noticias-en-lengua-de-senas-argentina-resumen-...   \n",
       "41  noticias-en-lengua-de-senas-argentina-resumen-...   \n",
       "45  noticias-en-lengua-de-senas-argentina-resumen-...   \n",
       "\n",
       "                                                label  duration  \\\n",
       "3    buenas noches bienvenidos cn sordos argentina...      4.73   \n",
       "14                                               hola      2.85   \n",
       "25  incertidumbre si persona coronavirus si rescat...      5.90   \n",
       "41          cómo cambió veremos cómo va próximos días      4.49   \n",
       "45                       cómo protocolo lugar público      1.37   \n",
       "\n",
       "                                            frequency  \n",
       "3   [102, 5, 2, 62, 223, 434, 381, 114, 47, 381, 3...  \n",
       "14                                         [102, 182]  \n",
       "25                  [2, 365, 145, 89, 365, 1, 228, 1]  \n",
       "41                    [356, 5, 14, 356, 116, 17, 116]  \n",
       "45                                 [356, 28, 112, 35]  "
      ]
     },
     "metadata": {},
     "output_type": "display_data"
    },
    {
     "name": "stdout",
     "output_type": "stream",
     "text": [
      "Clips: 772\n",
      "Total time: 1.1393758333333335\n"
     ]
    }
   ],
   "source": [
    "from statistics import mean\n",
    "\n",
    "\n",
    "labels_mean_fr_threshold = labels[labels['frequency'].apply(lambda x: mean(x) > 130 if len(x) > 0 else False)]\n",
    "display(labels_mean_fr_threshold.head())\n",
    "print(f\"Clips: {labels_mean_fr_threshold['id'].count()}\")\n",
    "print(f\"Total time: {labels_mean_fr_threshold['duration'].sum() / 60 / 60}\")"
   ]
  },
  {
   "cell_type": "code",
   "execution_count": 19,
   "metadata": {},
   "outputs": [
    {
     "data": {
      "text/html": [
       "<div>\n",
       "<style scoped>\n",
       "    .dataframe tbody tr th:only-of-type {\n",
       "        vertical-align: middle;\n",
       "    }\n",
       "\n",
       "    .dataframe tbody tr th {\n",
       "        vertical-align: top;\n",
       "    }\n",
       "\n",
       "    .dataframe thead th {\n",
       "        text-align: right;\n",
       "    }\n",
       "</style>\n",
       "<table border=\"1\" class=\"dataframe\">\n",
       "  <thead>\n",
       "    <tr style=\"text-align: right;\">\n",
       "      <th></th>\n",
       "      <th>frequency</th>\n",
       "    </tr>\n",
       "  </thead>\n",
       "  <tbody>\n",
       "    <tr>\n",
       "      <th>count</th>\n",
       "      <td>1113.000000</td>\n",
       "    </tr>\n",
       "    <tr>\n",
       "      <th>mean</th>\n",
       "      <td>3.908356</td>\n",
       "    </tr>\n",
       "    <tr>\n",
       "      <th>std</th>\n",
       "      <td>14.549798</td>\n",
       "    </tr>\n",
       "    <tr>\n",
       "      <th>min</th>\n",
       "      <td>1.000000</td>\n",
       "    </tr>\n",
       "    <tr>\n",
       "      <th>25%</th>\n",
       "      <td>1.000000</td>\n",
       "    </tr>\n",
       "    <tr>\n",
       "      <th>50%</th>\n",
       "      <td>1.000000</td>\n",
       "    </tr>\n",
       "    <tr>\n",
       "      <th>75%</th>\n",
       "      <td>2.000000</td>\n",
       "    </tr>\n",
       "    <tr>\n",
       "      <th>90%</th>\n",
       "      <td>5.000000</td>\n",
       "    </tr>\n",
       "    <tr>\n",
       "      <th>95%</th>\n",
       "      <td>10.400000</td>\n",
       "    </tr>\n",
       "    <tr>\n",
       "      <th>99%</th>\n",
       "      <td>66.000000</td>\n",
       "    </tr>\n",
       "    <tr>\n",
       "      <th>max</th>\n",
       "      <td>250.000000</td>\n",
       "    </tr>\n",
       "  </tbody>\n",
       "</table>\n",
       "</div>"
      ],
      "text/plain": [
       "         frequency\n",
       "count  1113.000000\n",
       "mean      3.908356\n",
       "std      14.549798\n",
       "min       1.000000\n",
       "25%       1.000000\n",
       "50%       1.000000\n",
       "75%       2.000000\n",
       "90%       5.000000\n",
       "95%      10.400000\n",
       "99%      66.000000\n",
       "max     250.000000"
      ]
     },
     "metadata": {},
     "output_type": "display_data"
    },
    {
     "data": {
      "image/png": "[encoded data removed]",
      "text/plain": [
       "<Figure size 500x500 with 1 Axes>"
      ]
     },
     "metadata": {},
     "output_type": "display_data"
    }
   ],
   "source": [
    "words_mean_fr_threshold_freq, words_mean_fr_threshold_freq_df = get_counter(labels_mean_fr_threshold)\n",
    "display(words_mean_fr_threshold_freq_df.describe(percentiles=[.25, .5, .75, .9, .95, .99]))\n",
    "words_hist_fig = words_mean_fr_threshold_freq_df.hist(figsize=(5, 5))"
   ]
  },
  {
   "cell_type": "code",
   "execution_count": 20,
   "metadata": {},
   "outputs": [
    {
     "data": {
      "text/plain": [
       "<Axes: xlabel='Word frequency', ylabel='Percentage'>"
      ]
     },
     "metadata": {},
     "output_type": "display_data"
    },
    {
     "data": {
      "image/png": "[encoded data removed]",
      "text/plain": [
       "<Figure size 640x480 with 1 Axes>"
      ]
     },
     "metadata": {},
     "output_type": "display_data"
    }
   ],
   "source": [
    "simple_hist(words_mean_fr_threshold_freq_df)"
   ]
  }
 ],
 "metadata": {
  "kernelspec": {
   "display_name": "anyone",
   "language": "python",
   "name": "python3"
  },
  "language_info": {
   "codemirror_mode": {
    "name": "ipython",
    "version": 3
   },
   "file_extension": ".py",
   "mimetype": "text/x-python",
   "name": "python",
   "nbconvert_exporter": "python",
   "pygments_lexer": "ipython3",
   "version": "3.10.12"
  },
  "orig_nbformat": 4
 },
 "nbformat": 4,
 "nbformat_minor": 2
}
