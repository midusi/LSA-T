{
 "cells": [
  {
   "cell_type": "code",
   "execution_count": 1,
   "metadata": {},
   "outputs": [
    {
     "name": "stdout",
     "output_type": "stream",
     "text": [
      "8459\n"
     ]
    }
   ],
   "source": [
    "import h5py\n",
    "import numpy as np\n",
    "from numpy.typing import NDArray\n",
    "\n",
    "\n",
    "KEYPOINTS_PATH = \"../data/keypoints.h5\"\n",
    "with h5py.File(KEYPOINTS_PATH, 'r') as hdf5_file:\n",
    "\tprint(len(list(hdf5_file.keys())))"
   ]
  },
  {
   "cell_type": "code",
   "execution_count": 2,
   "metadata": {},
   "outputs": [],
   "source": [
    "import pandas as pd\n",
    "\n",
    "from hints.Frame import Frame\n",
    "from hints.Box import Box, format_box\n",
    "\n",
    "from helpers import load_video, store_video\n",
    "\n",
    "def draw_keypoints(\n",
    "\t\tframe: Frame,\n",
    "        frame_keypoints: list[float],\n",
    "        size: int = 5,\n",
    "        threshold: float = 0.5,\n",
    "        color: int | None = None) -> Frame:\n",
    "\t'''Draw keypoints in the frame'''\n",
    "\tfr = frame.copy()\n",
    "\tfor i in range(0, len(frame_keypoints), 4):\n",
    "\t\tx, y, z, vis = frame_keypoints[i:i+4]\n",
    "\t\tif x is None or y is None:\n",
    "\t\t\tcontinue\n",
    "\t\tif (not pd.isna(x) and not pd.isna(y)) and (pd.isna(vis) or vis > threshold):\n",
    "\t\t\tfr[int(y)-size:int(y)+size:,int(x)-size:int(x)+size] = color if color is not None else 255-fr[int(y)-size:int(y)+size:,int(x)-size:int(x)+size]\n",
    "\treturn fr\n",
    "\n",
    "def draw_box(frame: Frame, box: Box, color: int | None = None) -> Frame:\n",
    "\tfr = frame.copy()\n",
    "\t#  if values are not nan\n",
    "\tif not np.isnan(box['x1']) and not np.isnan(box['y1']) and not np.isnan(box['x2']) and not np.isnan(box['y2']):\n",
    "\t\tleft = int(box['x1'])\n",
    "\t\tbottom = int(box['y1'])\n",
    "\t\ttop = int(box['y2'])\n",
    "\t\tright = int(box['x2'])\n",
    "\t\tfr[top-5:top+5, left:right] = color if color is not None else 255 - fr[top-5:top+5, left:right]\n",
    "\t\tfr[bottom-5:bottom+5, left:right] = color if color is not None else 255 - fr[bottom-5:bottom+5, left:right]\n",
    "\t\tfr[bottom:top, left-5:left+5] = color if color is not None else 255 - fr[bottom:top, left-5:left+5]\n",
    "\t\tfr[bottom:top, right-5:right+5] = color if color is not None else 255 - fr[bottom:top, right-5:right+5]\n",
    "\treturn fr"
   ]
  },
  {
   "cell_type": "code",
   "execution_count": 6,
   "metadata": {},
   "outputs": [
    {
     "name": "stdout",
     "output_type": "stream",
     "text": [
      "Processing clip 1/8459: noticias-en-lengua-de-senas-argentina-resumen-semanal-28032021_159.mp4\n",
      "Processing clip 2/8459: noticias-en-lengua-de-senas-argentina-resumen-semanal-7022021_222.mp4\n",
      "Processing clip 3/8459: lsa-noticias-en-lengua-de-senas-argentina-resumen-semanal-13062021_187.mp4\n",
      "Processing clip 4/8459: noticias-en-lengua-de-senas-argentina-resumen-semanal-27122020_248.mp4\n"
     ]
    }
   ],
   "source": [
    "import os\n",
    "\n",
    "\n",
    "clips_dir = \"../data/cuts\"\n",
    "clips = os.listdir(clips_dir)\n",
    "np.random.shuffle(clips)\n",
    "\n",
    "KEYPOINTS_SIZE = np.float16\n",
    "\n",
    "colors = [(255,0,0), (0,255,0), (0,0,255), (255,255,0), (0,255,255), (255,0,255)]\n",
    "\n",
    "for i, clip in enumerate(clips[:4]):\n",
    "\tprint(f\"Processing clip {i+1}/{len(clips)}: {clip}\")\n",
    "\tvideo, frame_rate, _ = load_video(f\"{clips_dir}/{clip}\")\n",
    "\tdrawn_video = video\n",
    "\twith h5py.File(KEYPOINTS_PATH, 'r') as hdf5_file:\n",
    "\t\tfor i_signer, signer in enumerate(hdf5_file[clip]):\n",
    "\t\t\tkeypoints: NDArray[KEYPOINTS_SIZE] = hdf5_file[clip][signer]['keypoints'][:]\n",
    "\t\t\tboxes: NDArray[KEYPOINTS_SIZE] = hdf5_file[clip][signer]['boxes'][:]\n",
    "\t\t\tfor i_frame, (frame_keypoints, frame_box) in enumerate(zip(keypoints, boxes)):\n",
    "\t\t\t\tdrawn_video[i_frame] = draw_keypoints(drawn_video[i_frame], frame_keypoints.tolist(), color=colors[i_signer%len(colors)], size=2)\n",
    "\t\t\t\tdrawn_video[i_frame] = draw_box(drawn_video[i_frame], box=format_box(frame_box.tolist()), color=colors[i_signer%len(colors)])\n",
    "\tstore_video(video, frame_rate, f'with_keypoints_{clip}')"
   ]
  },
  {
   "cell_type": "code",
   "execution_count": 4,
   "metadata": {},
   "outputs": [],
   "source": [
    "# from IPython.display import Video, display\n",
    "# import os\n",
    "\n",
    "\n",
    "# name = f\".temp/with_keypoints_{clip}\"\n",
    "# if os.path.exists(name):\n",
    "# \tprint(\"Video found\")\n",
    "# \tdisplay(Video(name, embed=True, height=500, width=500))\n",
    "# else:\n",
    "# \tprint(\"Video not found\")"
   ]
  }
 ],
 "metadata": {
  "kernelspec": {
   "display_name": "keypoints",
   "language": "python",
   "name": "python3"
  },
  "language_info": {
   "codemirror_mode": {
    "name": "ipython",
    "version": 3
   },
   "file_extension": ".py",
   "mimetype": "text/x-python",
   "name": "python",
   "nbconvert_exporter": "python",
   "pygments_lexer": "ipython3",
   "version": "3.11.4"
  },
  "orig_nbformat": 4
 },
 "nbformat": 4,
 "nbformat_minor": 2
}
