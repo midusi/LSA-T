{
 "cells": [
  {
   "cell_type": "code",
   "execution_count": 64,
   "metadata": {},
   "outputs": [],
   "source": [
    "import json, os\n",
    "from moviepy.editor import VideoFileClip\n",
    "from IPython.display import Video, display\n",
    "\n",
    "\n",
    "def draw_rectangle(box):\n",
    "    def draw(frame):\n",
    "        '''Draw a rectangle in the frame'''\n",
    "        fr = frame.copy()\n",
    "        bottom = int(box['y1'])\n",
    "        top = int(bottom + box['height'])\n",
    "        left = int(box['x1'])\n",
    "        right = int(left + box['width'])\n",
    "        fr[top-5:top+5, left:right] = 255 - fr[top-5:top+5, left:right]\n",
    "        fr[bottom-5:bottom+5, left:right] = 255 - fr[bottom-5:bottom+5, left:right]\n",
    "        fr[bottom:top, left-5:left+5] = 255 - fr[bottom:top, left-5:left+5]\n",
    "        fr[bottom:top, right-5:right+5] = 255 - fr[bottom:top, right-5:right+5]\n",
    "        return fr\n",
    "    return draw\n",
    "\n",
    "def draw_keypoints(keypoints, fps, size = 5, threshold = 0):\n",
    "    def draw(get_frame, t):\n",
    "        '''Draw keypoints in the frame'''\n",
    "        fr = get_frame(t).copy()\n",
    "        keypoints_t: list[float] = keypoints[min(int(t * fps), len(keypoints)-1)]['keypoints']\n",
    "        it = iter(keypoints_t)\n",
    "        for x, y, conf in list(zip(it, it, it))[94:]:\n",
    "            if conf > threshold:\n",
    "                fr[int(y)-size:int(y)+size:,int(x)-size:int(x)+size] = 255-fr[int(y)-size:int(y)+size:,int(x)-size:int(x)+size]\n",
    "        return fr\n",
    "    return draw\n",
    "\n",
    "def group_kds(kds):\n",
    "    '''Groups keypoint data objects that belong to same frame'''\n",
    "    grouped = [[]]\n",
    "    for kd in kds:\n",
    "        added = False\n",
    "        for g in grouped:\n",
    "            if not added and (not g or g[-1]['image_id'] != kd['image_id']):\n",
    "                g.append(kd)\n",
    "                added = True\n",
    "        if not added:\n",
    "            grouped.append([kd])\n",
    "    return grouped\n",
    "\n",
    "def update_clip(clip, size, threshold, output = \"temp\"):\n",
    "    rec_clip = VideoFileClip(clip+\".mp4\")\n",
    "    with open(clip+\"_signer.json\") as signerf:\n",
    "        signer = json.load(signerf)\n",
    "    with open(clip+\"_ap.json\") as apf:\n",
    "        ap = json.load(apf)\n",
    "    signers = group_kds(ap)\n",
    "    for s in signers:\n",
    "        rec_clip = rec_clip.fl(draw_keypoints(s, rec_clip.fps, size, threshold))\n",
    "    final_clip = rec_clip.fl_image(draw_rectangle(signer['roi']))\n",
    "    final_clip.write_videofile(\"../data/temp/{}.mp4\".format(output), codec=\"libx264\", fps=15, verbose=False, logger=None)\n",
    "    with open(clip+\".json\") as dataf:\n",
    "        data = json.load(dataf)\n",
    "    return data"
   ]
  },
  {
   "cell_type": "code",
   "execution_count": 38,
   "metadata": {},
   "outputs": [
    {
     "name": "stdout",
     "output_type": "stream",
     "text": [
      "../data/cuts/noticias-en-lengua-de-senas-argentina-resumen-semanal-7022021/210\n",
      "dict_keys(['all', '2', '1', '3', '4', '5', '6', '11', '18', '17', '16', '10', '13', '14', '15', '12', '7', '21', '9', '8', '25', '20', '19', '27', '26', '24', '22', '23', '29'])\n",
      "102\n"
     ]
    }
   ],
   "source": [
    "def get_score(scores: list[float]):\n",
    "    m1 = max(scores)\n",
    "    scores = scores.copy()\n",
    "    scores.remove(m1)\n",
    "    return (m1 - max(scores)) / m1\n",
    "\n",
    "path = \"../data/cuts/\"\n",
    "cuts = [(path+vid+'/'+cut[:-4]) for vid in os.listdir(path) for cut in os.listdir(path + vid) if cut.endswith(\".mp4\")]\n",
    "\n",
    "by_signers = {\"all\": set()}\n",
    "by_scores = {\"all\": set()}\n",
    "for cut in cuts:\n",
    "    by_scores[\"all\"].add(cut)\n",
    "    by_signers[\"all\"].add(cut)\n",
    "    with open(cut + \"_signer.json\") as datafile:\n",
    "        line = \"\"\n",
    "        while ']' not in line:\n",
    "            line += datafile.readline()\n",
    "        line = line[:-2] + '}'\n",
    "    scores = json.loads(line)[\"scores\"]\n",
    "    by_signers.setdefault(str(len(scores)),set()).add(cut)\n",
    "    if len(scores) > 1:\n",
    "        if max(scores) == 0:\n",
    "            # Error en video que solo se ven imagenes en carteles\n",
    "            print(cut)\n",
    "            continue\n",
    "        by_scores.setdefault(str(round(get_score(scores), 2)),set()).add(cut)\n",
    "\n",
    "print(by_signers.keys())\n",
    "print(len(by_scores.keys()))"
   ]
  },
  {
   "cell_type": "code",
   "execution_count": 67,
   "metadata": {},
   "outputs": [
    {
     "name": "stdout",
     "output_type": "stream",
     "text": [
      "Video: ../data/cuts/noticias-en-lengua-de-senas-argentina-resumen-semanal-24012021/59\n",
      "Label: cambios en su política de privacidad,\n"
     ]
    },
    {
     "data": {
      "text/html": [
       "<video src=\"../data/temp/0.mp4\" controls   height=\"300\">\n",
       "      Your browser does not support the <code>video</code> element.\n",
       "    </video>"
      ],
      "text/plain": [
       "<IPython.core.display.Video object>"
      ]
     },
     "metadata": {},
     "output_type": "display_data"
    },
    {
     "name": "stdout",
     "output_type": "stream",
     "text": [
      "Video: ../data/cuts/noticias-en-lengua-de-senas-argentina-resumen-semanal-27122020/193\n",
      "Label: de la asociación de sordos de mendoza, viajamos, hicimos una presentación,\n"
     ]
    },
    {
     "data": {
      "text/html": [
       "<video src=\"../data/temp/1.mp4\" controls   height=\"300\">\n",
       "      Your browser does not support the <code>video</code> element.\n",
       "    </video>"
      ],
      "text/plain": [
       "<IPython.core.display.Video object>"
      ]
     },
     "metadata": {},
     "output_type": "display_data"
    },
    {
     "name": "stdout",
     "output_type": "stream",
     "text": [
      "Video: ../data/cuts/noticias-en-lengua-de-senas-argentina-resumen-semanal-25042021/171\n",
      "Label: este organismo se comunica con el planetario,\n"
     ]
    },
    {
     "data": {
      "text/html": [
       "<video src=\"../data/temp/2.mp4\" controls   height=\"300\">\n",
       "      Your browser does not support the <code>video</code> element.\n",
       "    </video>"
      ],
      "text/plain": [
       "<IPython.core.display.Video object>"
      ]
     },
     "metadata": {},
     "output_type": "display_data"
    },
    {
     "name": "stdout",
     "output_type": "stream",
     "text": [
      "Video: ../data/cuts/noticias-en-lengua-de-senas-argentina-resumen-semanal-24012021/56\n",
      "Label: cambios en las condiciones de uso de whatsapp.\n"
     ]
    },
    {
     "data": {
      "text/html": [
       "<video src=\"../data/temp/3.mp4\" controls   height=\"300\">\n",
       "      Your browser does not support the <code>video</code> element.\n",
       "    </video>"
      ],
      "text/plain": [
       "<IPython.core.display.Video object>"
      ]
     },
     "metadata": {},
     "output_type": "display_data"
    },
    {
     "name": "stdout",
     "output_type": "stream",
     "text": [
      "Video: ../data/cuts/noticias-en-lengua-de-senas-argentina-resumen-semanal-25042021/305\n",
      "Label: tomar conciencia y aprender más sobre temas que no conocemos.\n"
     ]
    },
    {
     "data": {
      "text/html": [
       "<video src=\"../data/temp/4.mp4\" controls   height=\"300\">\n",
       "      Your browser does not support the <code>video</code> element.\n",
       "    </video>"
      ],
      "text/plain": [
       "<IPython.core.display.Video object>"
      ]
     },
     "metadata": {},
     "output_type": "display_data"
    }
   ],
   "source": [
    "SIGNERS = \"all\"\n",
    "SCORES = \"0.98\"\n",
    "\n",
    "AMOUNT = 5\n",
    "OFFSET = 12\n",
    "\n",
    "for i, c in enumerate(list(by_signers[SIGNERS] & by_scores[SCORES])[OFFSET:OFFSET + AMOUNT]):\n",
    "    data = update_clip(c, 7, 0.5, i)\n",
    "    print(\"Video: {}\".format(c))\n",
    "    print(\"Label: {}\".format(data['label']))\n",
    "    display(Video(\"../data/temp/{}.mp4\".format(i), height=300))"
   ]
  },
  {
   "cell_type": "code",
   "execution_count": 7,
   "metadata": {},
   "outputs": [
    {
     "name": "stdout",
     "output_type": "stream",
     "text": [
      "../data/cuts/como-hacer-una-huerta-urbana-en-casa-episodio-8-en-lengua-de-senas-argentina-lsa/4\n",
      "\n"
     ]
    }
   ],
   "source": [
    "error = input(\"Crop error in video {}? y/[n]\".format(clip))\n",
    "if error == 'y':\n",
    "    with open(\"../data/errors.csv\", 'a') as errors_f:\n",
    "        errors_f.write(clip[:-1] + ',')\n",
    "if os.path.isfile(\"../data/errors.csv\"):\n",
    "    with open(\"../data/errors.csv\", 'r') as errors_f:\n",
    "        for f in errors_f.read().split(','):\n",
    "            print(f)"
   ]
  },
  {
   "cell_type": "code",
   "execution_count": 37,
   "metadata": {},
   "outputs": [
    {
     "name": "stdout",
     "output_type": "stream",
     "text": [
      "Video: ../data/cuts/noticias-en-lengua-de-senas-argentina-resumen-semanal-28022021/85\n",
      "Label: es muy importante, llevar una dieta saludable y la actividad física suficiente\n"
     ]
    },
    {
     "data": {
      "text/html": [
       "<video src=\"../data/temp/temp.mp4\" controls   height=\"300\">\n",
       "      Your browser does not support the <code>video</code> element.\n",
       "    </video>"
      ],
      "text/plain": [
       "<IPython.core.display.Video object>"
      ]
     },
     "metadata": {},
     "output_type": "display_data"
    }
   ],
   "source": [
    "clip = path + input(\"Clip:\")\n",
    "\n",
    "data = update_clip(clip, 7, 0.5)\n",
    "\n",
    "print(\"Video: {}\".format(clip))\n",
    "print(\"Label: {}\".format(data['label']))\n",
    "display(Video(\"../data/temp/temp.mp4\", height=300))"
   ]
  }
 ],
 "metadata": {
  "interpreter": {
   "hash": "a931f1cec853e25af2ee96364aa23a684a809b6da7e1defdac92b12dff587456"
  },
  "kernelspec": {
   "display_name": "Python 3.9.6 64-bit ('py39': conda)",
   "language": "python",
   "name": "python3"
  },
  "language_info": {
   "codemirror_mode": {
    "name": "ipython",
    "version": 3
   },
   "file_extension": ".py",
   "mimetype": "text/x-python",
   "name": "python",
   "nbconvert_exporter": "python",
   "pygments_lexer": "ipython3",
   "version": "3.9.6"
  },
  "orig_nbformat": 4
 },
 "nbformat": 4,
 "nbformat_minor": 2
}
