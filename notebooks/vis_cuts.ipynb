{
 "cells": [
  {
   "cell_type": "code",
   "execution_count": 7,
   "metadata": {},
   "outputs": [],
   "source": [
    "import json, os, random\n",
    "from moviepy.editor import VideoFileClip\n",
    "from IPython.display import Video, display\n",
    "\n",
    "\n",
    "def draw_rectangle(box):\n",
    "    def draw(frame):\n",
    "        \"\"\"Draw a rectangle in the frame\"\"\"\n",
    "        fr = frame.copy()\n",
    "        bottom = int(box['y1'])\n",
    "        top = int(bottom + box['height'])\n",
    "        left = int(box['x1'])\n",
    "        right = int(left + box['width'])\n",
    "        fr[top-5:top+5, left:right] = 255 - fr[top-5:top+5, left:right]\n",
    "        fr[bottom-5:bottom+5, left:right] = 255 - fr[bottom-5:bottom+5, left:right]\n",
    "        fr[bottom:top, left-5:left+5] = 255 - fr[bottom:top, left-5:left+5]\n",
    "        fr[bottom:top, right-5:right+5] = 255 - fr[bottom:top, right-5:right+5]\n",
    "        return fr\n",
    "    return draw\n",
    "\n",
    "def draw_keypoints(keypoints, fps, size = 5):\n",
    "    def draw(get_frame, t):\n",
    "        \"\"\"Draw keypoints in the frame\"\"\"\n",
    "        fr = get_frame(t).copy()\n",
    "        keypoints_t: list[float] = keypoints[min(int(t * fps), len(keypoints)-1)]['keypoints']\n",
    "        it = iter(keypoints_t)\n",
    "        for x, y, conf in zip(it, it, it):\n",
    "            #if conf > 0.5:\n",
    "            fr[int(y)-size:int(y)+size:,int(x)-size:int(x)+size] = 255-fr[int(y)-size:int(y)+size:,int(x)-size:int(x)+size]\n",
    "        return fr\n",
    "    return draw\n",
    "\n",
    "def group_kds(kds):\n",
    "    '''Groups keypoint data objects that belong to same frame'''\n",
    "    grouped = [[]]\n",
    "    for kd in kds:\n",
    "        added = False\n",
    "        for g in grouped:\n",
    "            if not added and (not g or g[-1]['image_id'] != kd['image_id']):\n",
    "                g.append(kd)\n",
    "                added = True\n",
    "        if not added:\n",
    "            grouped.append([kd])\n",
    "    return grouped\n",
    "\n",
    "def update_clip(clip):\n",
    "    rec_clip = VideoFileClip(clip+\".mp4\")\n",
    "    with open(clip+\"_signer.json\") as signerf:\n",
    "        signer = json.load(signerf)\n",
    "    with open(clip+\"_ap.json\") as apf:\n",
    "        ap = json.load(apf)\n",
    "    signers = group_kds(ap)\n",
    "    for s in signers:\n",
    "        rec_clip = rec_clip.fl(draw_keypoints(s, rec_clip.fps, 7))\n",
    "    final_clip = rec_clip.fl_image(draw_rectangle(signer['roi']))\n",
    "    final_clip.write_videofile(\"../data/temp/temp.mp4\", codec=\"libx264\", fps=15, verbose=False, logger=None)\n",
    "    with open(clip+\".json\") as dataf:\n",
    "        data = json.load(dataf)\n",
    "    return data\n",
    "\n",
    "path = \"../data/cuts/\"\n",
    "cuts = [(path+vid+'/'+cut[:-4]) for vid in os.listdir(path) for cut in os.listdir(path + vid) if cut.endswith(\".mp4\")]"
   ]
  },
  {
   "cell_type": "code",
   "execution_count": 8,
   "metadata": {},
   "outputs": [
    {
     "name": "stdout",
     "output_type": "stream",
     "text": [
      "Video: ../data/cuts/noticias-en-lengua-de-senas-argentina-resumen-semanal-28032021/121\n",
      "Label: lograr igualdad en la competencia. chau.\n"
     ]
    },
    {
     "data": {
      "text/html": [
       "<video src=\"../data/temp/temp.mp4\" controls   height=\"300\">\n",
       "      Your browser does not support the <code>video</code> element.\n",
       "    </video>"
      ],
      "text/plain": [
       "<IPython.core.display.Video object>"
      ]
     },
     "metadata": {},
     "output_type": "display_data"
    }
   ],
   "source": [
    "clip = random.choice(cuts)\n",
    "\n",
    "data = update_clip(clip)\n",
    "\n",
    "print(\"Video: {}\".format(clip))\n",
    "print(\"Label: {}\".format(data['label']))\n",
    "display(Video(\"../data/temp/temp.mp4\", height=300))"
   ]
  },
  {
   "cell_type": "code",
   "execution_count": 7,
   "metadata": {},
   "outputs": [
    {
     "name": "stdout",
     "output_type": "stream",
     "text": [
      "../data/cuts/como-hacer-una-huerta-urbana-en-casa-episodio-8-en-lengua-de-senas-argentina-lsa/4\n",
      "\n"
     ]
    }
   ],
   "source": [
    "error = input(\"Crop error in video {}? y/[n]\".format(clip))\n",
    "if error == 'y':\n",
    "    with open(\"../data/errors.csv\", 'a') as errors_f:\n",
    "        errors_f.write(clip[:-1] + ',')\n",
    "if os.path.isfile(\"../data/errors.csv\"):\n",
    "    with open(\"../data/errors.csv\", 'r') as errors_f:\n",
    "        for f in errors_f.read().split(','):\n",
    "            print(f)"
   ]
  },
  {
   "cell_type": "code",
   "execution_count": 8,
   "metadata": {},
   "outputs": [
    {
     "name": "stdout",
     "output_type": "stream",
     "text": [
      "Video: ../data/cuts/como-hacer-una-huerta-urbana-en-casa-episodio-8-en-lengua-de-senas-argentina-lsa/4\n",
      "Label: el alimento disponible.\n"
     ]
    },
    {
     "data": {
      "text/html": [
       "<video src=\"../data/temp/temp.mp4\" controls   height=\"300\">\n",
       "      Your browser does not support the <code>video</code> element.\n",
       "    </video>"
      ],
      "text/plain": [
       "<IPython.core.display.Video object>"
      ]
     },
     "metadata": {},
     "output_type": "display_data"
    }
   ],
   "source": [
    "clip = path + input(\"Clip:\")\n",
    "\n",
    "data = update_clip(clip)\n",
    "\n",
    "print(\"Video: {}\".format(clip))\n",
    "print(\"Label: {}\".format(data['label']))\n",
    "display(Video(\"../data/temp/temp.mp4\", height=300))"
   ]
  }
 ],
 "metadata": {
  "interpreter": {
   "hash": "a931f1cec853e25af2ee96364aa23a684a809b6da7e1defdac92b12dff587456"
  },
  "kernelspec": {
   "display_name": "Python 3.9.6 64-bit ('py39': conda)",
   "language": "python",
   "name": "python3"
  },
  "language_info": {
   "codemirror_mode": {
    "name": "ipython",
    "version": 3
   },
   "file_extension": ".py",
   "mimetype": "text/x-python",
   "name": "python",
   "nbconvert_exporter": "python",
   "pygments_lexer": "ipython3",
   "version": "3.9.6"
  },
  "orig_nbformat": 4
 },
 "nbformat": 4,
 "nbformat_minor": 2
}
